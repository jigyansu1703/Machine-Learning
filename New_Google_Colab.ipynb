{
  "cells": [
    {
      "cell_type": "markdown",
      "metadata": {
        "id": "welcome-note"
      },
      "source": [
        "# New Google Colab Notebook\n",
        "\n",
        "This notebook was created as part of the project setup."
      ]
    },
    {
      "cell_type": "code",
      "execution_count": null,
      "metadata": {
        "id": "first-code-cell"
      },
      "outputs": [],
      "source": [
        "# TODO: add your code here\n"
      ]
    }
  ],
  "metadata": {
    "colab": {
      "name": "New Google Colab.ipynb",
      "provenance": []
    },
    "kernelspec": {
      "display_name": "Python 3",
      "language": "python",
      "name": "python3"
    },
    "language_info": {
      "name": "python"
    }
  },
  "nbformat": 4,
  "nbformat_minor": 0
}
